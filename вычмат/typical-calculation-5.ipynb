{
 "cells": [
  {
   "cell_type": "markdown",
   "metadata": {},
   "source": [
    "# Типовой расчет 4\n",
    "\n",
    "\n",
    "\n",
    "K = 2.6\n",
    "\n",
    "L = 1.4 \n",
    "\n",
    "\n",
    "Рассматривается интеграл вида\n",
    "\n",
    "$ I = \\int_{a}^{b}\\frac{x + L}{x^2 + x + K}dx $, где\n",
    "\n",
    "$ a = \\frac{K - L}{2}, b = K + L $\n",
    "\n",
    "\n",
    "Точное значение интеграла равно:\n",
    "\n",
    "$ I = [\\frac{1}{2}\\ln(x^2+x+K) + \\frac{L - \\frac{1}{2}}{\\sqrt{K - \\frac{1}{4}}}\\arctan{\\frac{x + \\frac{1}{2}}{\\sqrt{K - \\frac{1}{4}}}}]_{a}^{b} $\n"
   ]
  },
  {
   "cell_type": "code",
   "execution_count": 1,
   "metadata": {
    "ExecuteTime": {
     "end_time": "2023-10-29T19:13:19.870205500Z",
     "start_time": "2023-10-29T19:13:19.714174400Z"
    }
   },
   "outputs": [
    {
     "data": {
      "text/plain": "<IPython.core.display.Math object>",
      "text/latex": "$\\displaystyle a = 0.6000000000000001$"
     },
     "metadata": {},
     "output_type": "display_data"
    },
    {
     "data": {
      "text/plain": "<IPython.core.display.Math object>",
      "text/latex": "$\\displaystyle b = 4.0$"
     },
     "metadata": {},
     "output_type": "display_data"
    },
    {
     "data": {
      "text/plain": "<IPython.core.display.Math object>",
      "text/latex": "$\\displaystyle I = 1.2881238730215352$"
     },
     "metadata": {},
     "output_type": "display_data"
    }
   ],
   "source": [
    "from IPython.display import display, Math, Latex, Markdown\n",
    "import numpy as np\n",
    "\n",
    "K = 2.6\n",
    "\n",
    "L = 1.4 \n",
    "\n",
    "a =  (K - L) / 2\n",
    "\n",
    "b = K + L\n",
    "\n",
    "def f(x):\n",
    "  return (x + L) / (x**2 + x + K)\n",
    "\n",
    "I = np.array([[0.0, 0.0, 0.0], [0.0, 0.0, 0.0], [0.0, 0.0, 0.0]])\n",
    "\n",
    "I_exact = ((1/2) * np.log(b**2 + b + K) + (L - (1/2))/(np.sqrt(K - (1/4))) * np.arctan((b + 1/2)/(np.sqrt(K - 1/4)))) - ((1/2) * np.log(a**2 + a + K) + (L - 1/2)/(np.sqrt(K - 1/4)) * np.arctan((a + 1/2)/(np.sqrt(K - 1/4))));\n",
    "\n",
    "display(Math(r'a = ' + str(a)))\n",
    "display(Math(r'b = ' + str(b)))\n",
    "display(Math(r'I = ' + str(I_exact)))\n",
    "\n"
   ]
  },
  {
   "cell_type": "markdown",
   "metadata": {},
   "source": [
    "## Метод трапеций (n = 4, 6, 8)\n",
    "\n",
    "### Формула:\n",
    "\n",
    "$ I_{тр} = (\\frac{f(a) + f(b)}{2} + \\sum_{i = 1}^{n - 1}f_i)h $"
   ]
  },
  {
   "cell_type": "code",
   "execution_count": 2,
   "metadata": {
    "ExecuteTime": {
     "end_time": "2023-10-29T19:13:19.982994Z",
     "start_time": "2023-10-29T19:13:19.860686700Z"
    }
   },
   "outputs": [
    {
     "data": {
      "text/plain": "<IPython.core.display.Markdown object>",
      "text/markdown": "### n = 4"
     },
     "metadata": {},
     "output_type": "display_data"
    },
    {
     "data": {
      "text/plain": "<IPython.core.display.Math object>",
      "text/latex": "$\\displaystyle h = 0.85$"
     },
     "metadata": {},
     "output_type": "display_data"
    },
    {
     "data": {
      "text/plain": "<IPython.core.display.Math object>",
      "text/latex": "$\\displaystyle x_{0} = {0.6000000000000001}$"
     },
     "metadata": {},
     "output_type": "display_data"
    },
    {
     "data": {
      "text/plain": "<IPython.core.display.Math object>",
      "text/latex": "$\\displaystyle y_{0} = {0.5617977528089887}$"
     },
     "metadata": {},
     "output_type": "display_data"
    },
    {
     "data": {
      "text/plain": "<IPython.core.display.Math object>",
      "text/latex": "$\\displaystyle x_{1} = {1.4500000000000002}$"
     },
     "metadata": {},
     "output_type": "display_data"
    },
    {
     "data": {
      "text/plain": "<IPython.core.display.Math object>",
      "text/latex": "$\\displaystyle y_{1} = {0.4632263307598537}$"
     },
     "metadata": {},
     "output_type": "display_data"
    },
    {
     "data": {
      "text/plain": "<IPython.core.display.Math object>",
      "text/latex": "$\\displaystyle x_{2} = {2.3000000000000003}$"
     },
     "metadata": {},
     "output_type": "display_data"
    },
    {
     "data": {
      "text/plain": "<IPython.core.display.Math object>",
      "text/latex": "$\\displaystyle y_{2} = {0.3631010794896958}$"
     },
     "metadata": {},
     "output_type": "display_data"
    },
    {
     "data": {
      "text/plain": "<IPython.core.display.Math object>",
      "text/latex": "$\\displaystyle x_{3} = {3.1500000000000004}$"
     },
     "metadata": {},
     "output_type": "display_data"
    },
    {
     "data": {
      "text/plain": "<IPython.core.display.Math object>",
      "text/latex": "$\\displaystyle y_{3} = {0.29031743499760726}$"
     },
     "metadata": {},
     "output_type": "display_data"
    },
    {
     "data": {
      "text/plain": "<IPython.core.display.Math object>",
      "text/latex": "$\\displaystyle x_{4} = {4.0}$"
     },
     "metadata": {},
     "output_type": "display_data"
    },
    {
     "data": {
      "text/plain": "<IPython.core.display.Math object>",
      "text/latex": "$\\displaystyle y_{4} = {0.23893805309734514}$"
     },
     "metadata": {},
     "output_type": "display_data"
    },
    {
     "data": {
      "text/plain": "<IPython.core.display.Math object>",
      "text/latex": "$\\displaystyle I_{тр} = 1.289460835970275$"
     },
     "metadata": {},
     "output_type": "display_data"
    },
    {
     "data": {
      "text/plain": "<IPython.core.display.Markdown object>",
      "text/markdown": "---"
     },
     "metadata": {},
     "output_type": "display_data"
    },
    {
     "data": {
      "text/plain": "<IPython.core.display.Markdown object>",
      "text/markdown": "### n = 6"
     },
     "metadata": {},
     "output_type": "display_data"
    },
    {
     "data": {
      "text/plain": "<IPython.core.display.Math object>",
      "text/latex": "$\\displaystyle h = 0.5666666666666667$"
     },
     "metadata": {},
     "output_type": "display_data"
    },
    {
     "data": {
      "text/plain": "<IPython.core.display.Math object>",
      "text/latex": "$\\displaystyle x_{0} = {0.6000000000000001}$"
     },
     "metadata": {},
     "output_type": "display_data"
    },
    {
     "data": {
      "text/plain": "<IPython.core.display.Math object>",
      "text/latex": "$\\displaystyle y_{0} = {0.5617977528089887}$"
     },
     "metadata": {},
     "output_type": "display_data"
    },
    {
     "data": {
      "text/plain": "<IPython.core.display.Math object>",
      "text/latex": "$\\displaystyle x_{1} = {1.1666666666666667}$"
     },
     "metadata": {},
     "output_type": "display_data"
    },
    {
     "data": {
      "text/plain": "<IPython.core.display.Math object>",
      "text/latex": "$\\displaystyle y_{1} = {0.5005417118093174}$"
     },
     "metadata": {},
     "output_type": "display_data"
    },
    {
     "data": {
      "text/plain": "<IPython.core.display.Math object>",
      "text/latex": "$\\displaystyle x_{2} = {1.7333333333333334}$"
     },
     "metadata": {},
     "output_type": "display_data"
    },
    {
     "data": {
      "text/plain": "<IPython.core.display.Math object>",
      "text/latex": "$\\displaystyle y_{2} = {0.42701393095093887}$"
     },
     "metadata": {},
     "output_type": "display_data"
    },
    {
     "data": {
      "text/plain": "<IPython.core.display.Math object>",
      "text/latex": "$\\displaystyle x_{3} = {2.3}$"
     },
     "metadata": {},
     "output_type": "display_data"
    },
    {
     "data": {
      "text/plain": "<IPython.core.display.Math object>",
      "text/latex": "$\\displaystyle y_{3} = {0.3631010794896958}$"
     },
     "metadata": {},
     "output_type": "display_data"
    },
    {
     "data": {
      "text/plain": "<IPython.core.display.Math object>",
      "text/latex": "$\\displaystyle x_{4} = {2.8666666666666663}$"
     },
     "metadata": {},
     "output_type": "display_data"
    },
    {
     "data": {
      "text/plain": "<IPython.core.display.Math object>",
      "text/latex": "$\\displaystyle y_{4} = {0.3117895420591101}$"
     },
     "metadata": {},
     "output_type": "display_data"
    },
    {
     "data": {
      "text/plain": "<IPython.core.display.Math object>",
      "text/latex": "$\\displaystyle x_{5} = {3.4333333333333327}$"
     },
     "metadata": {},
     "output_type": "display_data"
    },
    {
     "data": {
      "text/plain": "<IPython.core.display.Math object>",
      "text/latex": "$\\displaystyle y_{5} = {0.2712139160795561}$"
     },
     "metadata": {},
     "output_type": "display_data"
    },
    {
     "data": {
      "text/plain": "<IPython.core.display.Math object>",
      "text/latex": "$\\displaystyle x_{6} = {3.999999999999999}$"
     },
     "metadata": {},
     "output_type": "display_data"
    },
    {
     "data": {
      "text/plain": "<IPython.core.display.Math object>",
      "text/latex": "$\\displaystyle y_{6} = {0.23893805309734514}$"
     },
     "metadata": {},
     "output_type": "display_data"
    },
    {
     "data": {
      "text/plain": "<IPython.core.display.Math object>",
      "text/latex": "$\\displaystyle I_{тр} = 1.2886159138936784$"
     },
     "metadata": {},
     "output_type": "display_data"
    },
    {
     "data": {
      "text/plain": "<IPython.core.display.Markdown object>",
      "text/markdown": "---"
     },
     "metadata": {},
     "output_type": "display_data"
    },
    {
     "data": {
      "text/plain": "<IPython.core.display.Markdown object>",
      "text/markdown": "### n = 8"
     },
     "metadata": {},
     "output_type": "display_data"
    },
    {
     "data": {
      "text/plain": "<IPython.core.display.Math object>",
      "text/latex": "$\\displaystyle h = 0.425$"
     },
     "metadata": {},
     "output_type": "display_data"
    },
    {
     "data": {
      "text/plain": "<IPython.core.display.Math object>",
      "text/latex": "$\\displaystyle x_{0} = {0.6000000000000001}$"
     },
     "metadata": {},
     "output_type": "display_data"
    },
    {
     "data": {
      "text/plain": "<IPython.core.display.Math object>",
      "text/latex": "$\\displaystyle y_{0} = {0.5617977528089887}$"
     },
     "metadata": {},
     "output_type": "display_data"
    },
    {
     "data": {
      "text/plain": "<IPython.core.display.Math object>",
      "text/latex": "$\\displaystyle x_{1} = {1.0250000000000001}$"
     },
     "metadata": {},
     "output_type": "display_data"
    },
    {
     "data": {
      "text/plain": "<IPython.core.display.Math object>",
      "text/latex": "$\\displaystyle y_{1} = {0.5186472396738403}$"
     },
     "metadata": {},
     "output_type": "display_data"
    },
    {
     "data": {
      "text/plain": "<IPython.core.display.Math object>",
      "text/latex": "$\\displaystyle x_{2} = {1.4500000000000002}$"
     },
     "metadata": {},
     "output_type": "display_data"
    },
    {
     "data": {
      "text/plain": "<IPython.core.display.Math object>",
      "text/latex": "$\\displaystyle y_{2} = {0.4632263307598537}$"
     },
     "metadata": {},
     "output_type": "display_data"
    },
    {
     "data": {
      "text/plain": "<IPython.core.display.Math object>",
      "text/latex": "$\\displaystyle x_{3} = {1.8750000000000002}$"
     },
     "metadata": {},
     "output_type": "display_data"
    },
    {
     "data": {
      "text/plain": "<IPython.core.display.Math object>",
      "text/latex": "$\\displaystyle y_{3} = {0.40985529917872504}$"
     },
     "metadata": {},
     "output_type": "display_data"
    },
    {
     "data": {
      "text/plain": "<IPython.core.display.Math object>",
      "text/latex": "$\\displaystyle x_{4} = {2.3000000000000003}$"
     },
     "metadata": {},
     "output_type": "display_data"
    },
    {
     "data": {
      "text/plain": "<IPython.core.display.Math object>",
      "text/latex": "$\\displaystyle y_{4} = {0.3631010794896958}$"
     },
     "metadata": {},
     "output_type": "display_data"
    },
    {
     "data": {
      "text/plain": "<IPython.core.display.Math object>",
      "text/latex": "$\\displaystyle x_{5} = {2.725}$"
     },
     "metadata": {},
     "output_type": "display_data"
    },
    {
     "data": {
      "text/plain": "<IPython.core.display.Math object>",
      "text/latex": "$\\displaystyle y_{5} = {0.3235135532571933}$"
     },
     "metadata": {},
     "output_type": "display_data"
    },
    {
     "data": {
      "text/plain": "<IPython.core.display.Math object>",
      "text/latex": "$\\displaystyle x_{6} = {3.15}$"
     },
     "metadata": {},
     "output_type": "display_data"
    },
    {
     "data": {
      "text/plain": "<IPython.core.display.Math object>",
      "text/latex": "$\\displaystyle y_{6} = {0.29031743499760726}$"
     },
     "metadata": {},
     "output_type": "display_data"
    },
    {
     "data": {
      "text/plain": "<IPython.core.display.Math object>",
      "text/latex": "$\\displaystyle x_{7} = {3.5749999999999997}$"
     },
     "metadata": {},
     "output_type": "display_data"
    },
    {
     "data": {
      "text/plain": "<IPython.core.display.Math object>",
      "text/latex": "$\\displaystyle y_{7} = {0.26245507599986806}$"
     },
     "metadata": {},
     "output_type": "display_data"
    },
    {
     "data": {
      "text/plain": "<IPython.core.display.Math object>",
      "text/latex": "$\\displaystyle x_{8} = {3.9999999999999996}$"
     },
     "metadata": {},
     "output_type": "display_data"
    },
    {
     "data": {
      "text/plain": "<IPython.core.display.Math object>",
      "text/latex": "$\\displaystyle y_{8} = {0.23893805309734514}$"
     },
     "metadata": {},
     "output_type": "display_data"
    },
    {
     "data": {
      "text/plain": "<IPython.core.display.Math object>",
      "text/latex": "$\\displaystyle I_{тр} = 1.288380664431729$"
     },
     "metadata": {},
     "output_type": "display_data"
    },
    {
     "data": {
      "text/plain": "<IPython.core.display.Markdown object>",
      "text/markdown": "---"
     },
     "metadata": {},
     "output_type": "display_data"
    }
   ],
   "source": [
    "for n in [4, 6, 8]:\n",
    "  h = (b - a) / n\n",
    "  display(Markdown('### n = ' + str(n)))\n",
    "  display(Math('h = ' + str(h)))\n",
    "  x = np.empty((n + 1))\n",
    "  y = np.empty((n + 1))\n",
    "  x[0] = a\n",
    "  y[0] = f(x[0])\n",
    "  display(Math(r'x_{0} = {' + str(x[0]) + r'}'))\n",
    "  display(Math(r'y_{0} = {' + str(y[0]) + r'}'))\n",
    "  for i in range(1, n + 1):\n",
    "    x[i] = x[i - 1] + h\n",
    "    y[i] = f(x[i])\n",
    "    display(Math(r'x_{' + str(i) +  r'} = {' + str(x[i]) + r'}'))\n",
    "    display(Math(r'y_{' + str(i) +  r'} = {' + str(y[i]) + r'}'))\n",
    "  summ = 0\n",
    "  for i in range(1, n):\n",
    "    summ += y[i]\n",
    "  I[0][int(0.5 * n - 2)] = (((f(a) + f(b)) / 2) + summ) * h\n",
    "  display(Math(r'I_{тр} = ' + str((((f(a) + f(b)) / 2) + summ) * h)))\n",
    "  display(Markdown(\"---\"))"
   ]
  },
  {
   "cell_type": "markdown",
   "metadata": {},
   "source": [
    "## Метод парабол (n = 4, 6, 8)\n",
    "\n",
    "### Формула:\n",
    "\n",
    "$ \\int_{a}^{b}f(x)dx = \\frac{h}{3}(f(x_{0}) + 4\\sum_{i = 1}^{n}f(x_{2i - 1}) + 2\\sum_{i = 1}^{n - 1}f(x_{2i}) + f(x_{2n})) $"
   ]
  },
  {
   "cell_type": "code",
   "execution_count": 3,
   "metadata": {
    "ExecuteTime": {
     "end_time": "2023-10-29T19:13:20.334166400Z",
     "start_time": "2023-10-29T19:13:19.931149Z"
    }
   },
   "outputs": [
    {
     "data": {
      "text/plain": "<IPython.core.display.Markdown object>",
      "text/markdown": "### n = 4"
     },
     "metadata": {},
     "output_type": "display_data"
    },
    {
     "data": {
      "text/plain": "<IPython.core.display.Math object>",
      "text/latex": "$\\displaystyle h = 0.85$"
     },
     "metadata": {},
     "output_type": "display_data"
    },
    {
     "data": {
      "text/plain": "<IPython.core.display.Math object>",
      "text/latex": "$\\displaystyle x_{0} = {0.6000000000000001}$"
     },
     "metadata": {},
     "output_type": "display_data"
    },
    {
     "data": {
      "text/plain": "<IPython.core.display.Math object>",
      "text/latex": "$\\displaystyle y_{0} = {0.5617977528089887}$"
     },
     "metadata": {},
     "output_type": "display_data"
    },
    {
     "data": {
      "text/plain": "<IPython.core.display.Math object>",
      "text/latex": "$\\displaystyle x_{1} = {1.4500000000000002}$"
     },
     "metadata": {},
     "output_type": "display_data"
    },
    {
     "data": {
      "text/plain": "<IPython.core.display.Math object>",
      "text/latex": "$\\displaystyle y_{1} = {0.4632263307598537}$"
     },
     "metadata": {},
     "output_type": "display_data"
    },
    {
     "data": {
      "text/plain": "<IPython.core.display.Math object>",
      "text/latex": "$\\displaystyle x_{2} = {2.3000000000000003}$"
     },
     "metadata": {},
     "output_type": "display_data"
    },
    {
     "data": {
      "text/plain": "<IPython.core.display.Math object>",
      "text/latex": "$\\displaystyle y_{2} = {0.3631010794896958}$"
     },
     "metadata": {},
     "output_type": "display_data"
    },
    {
     "data": {
      "text/plain": "<IPython.core.display.Math object>",
      "text/latex": "$\\displaystyle x_{3} = {3.1500000000000004}$"
     },
     "metadata": {},
     "output_type": "display_data"
    },
    {
     "data": {
      "text/plain": "<IPython.core.display.Math object>",
      "text/latex": "$\\displaystyle y_{3} = {0.29031743499760726}$"
     },
     "metadata": {},
     "output_type": "display_data"
    },
    {
     "data": {
      "text/plain": "<IPython.core.display.Math object>",
      "text/latex": "$\\displaystyle x_{4} = {4.0}$"
     },
     "metadata": {},
     "output_type": "display_data"
    },
    {
     "data": {
      "text/plain": "<IPython.core.display.Math object>",
      "text/latex": "$\\displaystyle y_{4} = {0.23893805309734514}$"
     },
     "metadata": {},
     "output_type": "display_data"
    },
    {
     "data": {
      "text/plain": "<IPython.core.display.Math object>",
      "text/latex": "$\\displaystyle I_{par} = 1.2866486912427446$"
     },
     "metadata": {},
     "output_type": "display_data"
    },
    {
     "data": {
      "text/plain": "<IPython.core.display.Markdown object>",
      "text/markdown": "---"
     },
     "metadata": {},
     "output_type": "display_data"
    },
    {
     "data": {
      "text/plain": "<IPython.core.display.Markdown object>",
      "text/markdown": "### n = 6"
     },
     "metadata": {},
     "output_type": "display_data"
    },
    {
     "data": {
      "text/plain": "<IPython.core.display.Math object>",
      "text/latex": "$\\displaystyle h = 0.5666666666666667$"
     },
     "metadata": {},
     "output_type": "display_data"
    },
    {
     "data": {
      "text/plain": "<IPython.core.display.Math object>",
      "text/latex": "$\\displaystyle x_{0} = {0.6000000000000001}$"
     },
     "metadata": {},
     "output_type": "display_data"
    },
    {
     "data": {
      "text/plain": "<IPython.core.display.Math object>",
      "text/latex": "$\\displaystyle y_{0} = {0.5617977528089887}$"
     },
     "metadata": {},
     "output_type": "display_data"
    },
    {
     "data": {
      "text/plain": "<IPython.core.display.Math object>",
      "text/latex": "$\\displaystyle x_{1} = {1.1666666666666667}$"
     },
     "metadata": {},
     "output_type": "display_data"
    },
    {
     "data": {
      "text/plain": "<IPython.core.display.Math object>",
      "text/latex": "$\\displaystyle y_{1} = {0.5005417118093174}$"
     },
     "metadata": {},
     "output_type": "display_data"
    },
    {
     "data": {
      "text/plain": "<IPython.core.display.Math object>",
      "text/latex": "$\\displaystyle x_{2} = {1.7333333333333334}$"
     },
     "metadata": {},
     "output_type": "display_data"
    },
    {
     "data": {
      "text/plain": "<IPython.core.display.Math object>",
      "text/latex": "$\\displaystyle y_{2} = {0.42701393095093887}$"
     },
     "metadata": {},
     "output_type": "display_data"
    },
    {
     "data": {
      "text/plain": "<IPython.core.display.Math object>",
      "text/latex": "$\\displaystyle x_{3} = {2.3}$"
     },
     "metadata": {},
     "output_type": "display_data"
    },
    {
     "data": {
      "text/plain": "<IPython.core.display.Math object>",
      "text/latex": "$\\displaystyle y_{3} = {0.3631010794896958}$"
     },
     "metadata": {},
     "output_type": "display_data"
    },
    {
     "data": {
      "text/plain": "<IPython.core.display.Math object>",
      "text/latex": "$\\displaystyle x_{4} = {2.8666666666666663}$"
     },
     "metadata": {},
     "output_type": "display_data"
    },
    {
     "data": {
      "text/plain": "<IPython.core.display.Math object>",
      "text/latex": "$\\displaystyle y_{4} = {0.3117895420591101}$"
     },
     "metadata": {},
     "output_type": "display_data"
    },
    {
     "data": {
      "text/plain": "<IPython.core.display.Math object>",
      "text/latex": "$\\displaystyle x_{5} = {3.4333333333333327}$"
     },
     "metadata": {},
     "output_type": "display_data"
    },
    {
     "data": {
      "text/plain": "<IPython.core.display.Math object>",
      "text/latex": "$\\displaystyle y_{5} = {0.2712139160795561}$"
     },
     "metadata": {},
     "output_type": "display_data"
    },
    {
     "data": {
      "text/plain": "<IPython.core.display.Math object>",
      "text/latex": "$\\displaystyle x_{6} = {3.999999999999999}$"
     },
     "metadata": {},
     "output_type": "display_data"
    },
    {
     "data": {
      "text/plain": "<IPython.core.display.Math object>",
      "text/latex": "$\\displaystyle y_{6} = {0.23893805309734514}$"
     },
     "metadata": {},
     "output_type": "display_data"
    },
    {
     "data": {
      "text/plain": "<IPython.core.display.Math object>",
      "text/latex": "$\\displaystyle I_{par} = 1.2878009209388008$"
     },
     "metadata": {},
     "output_type": "display_data"
    },
    {
     "data": {
      "text/plain": "<IPython.core.display.Markdown object>",
      "text/markdown": "---"
     },
     "metadata": {},
     "output_type": "display_data"
    },
    {
     "data": {
      "text/plain": "<IPython.core.display.Markdown object>",
      "text/markdown": "### n = 8"
     },
     "metadata": {},
     "output_type": "display_data"
    },
    {
     "data": {
      "text/plain": "<IPython.core.display.Math object>",
      "text/latex": "$\\displaystyle h = 0.425$"
     },
     "metadata": {},
     "output_type": "display_data"
    },
    {
     "data": {
      "text/plain": "<IPython.core.display.Math object>",
      "text/latex": "$\\displaystyle x_{0} = {0.6000000000000001}$"
     },
     "metadata": {},
     "output_type": "display_data"
    },
    {
     "data": {
      "text/plain": "<IPython.core.display.Math object>",
      "text/latex": "$\\displaystyle y_{0} = {0.5617977528089887}$"
     },
     "metadata": {},
     "output_type": "display_data"
    },
    {
     "data": {
      "text/plain": "<IPython.core.display.Math object>",
      "text/latex": "$\\displaystyle x_{1} = {1.0250000000000001}$"
     },
     "metadata": {},
     "output_type": "display_data"
    },
    {
     "data": {
      "text/plain": "<IPython.core.display.Math object>",
      "text/latex": "$\\displaystyle y_{1} = {0.5186472396738403}$"
     },
     "metadata": {},
     "output_type": "display_data"
    },
    {
     "data": {
      "text/plain": "<IPython.core.display.Math object>",
      "text/latex": "$\\displaystyle x_{2} = {1.4500000000000002}$"
     },
     "metadata": {},
     "output_type": "display_data"
    },
    {
     "data": {
      "text/plain": "<IPython.core.display.Math object>",
      "text/latex": "$\\displaystyle y_{2} = {0.4632263307598537}$"
     },
     "metadata": {},
     "output_type": "display_data"
    },
    {
     "data": {
      "text/plain": "<IPython.core.display.Math object>",
      "text/latex": "$\\displaystyle x_{3} = {1.8750000000000002}$"
     },
     "metadata": {},
     "output_type": "display_data"
    },
    {
     "data": {
      "text/plain": "<IPython.core.display.Math object>",
      "text/latex": "$\\displaystyle y_{3} = {0.40985529917872504}$"
     },
     "metadata": {},
     "output_type": "display_data"
    },
    {
     "data": {
      "text/plain": "<IPython.core.display.Math object>",
      "text/latex": "$\\displaystyle x_{4} = {2.3000000000000003}$"
     },
     "metadata": {},
     "output_type": "display_data"
    },
    {
     "data": {
      "text/plain": "<IPython.core.display.Math object>",
      "text/latex": "$\\displaystyle y_{4} = {0.3631010794896958}$"
     },
     "metadata": {},
     "output_type": "display_data"
    },
    {
     "data": {
      "text/plain": "<IPython.core.display.Math object>",
      "text/latex": "$\\displaystyle x_{5} = {2.725}$"
     },
     "metadata": {},
     "output_type": "display_data"
    },
    {
     "data": {
      "text/plain": "<IPython.core.display.Math object>",
      "text/latex": "$\\displaystyle y_{5} = {0.3235135532571933}$"
     },
     "metadata": {},
     "output_type": "display_data"
    },
    {
     "data": {
      "text/plain": "<IPython.core.display.Math object>",
      "text/latex": "$\\displaystyle x_{6} = {3.15}$"
     },
     "metadata": {},
     "output_type": "display_data"
    },
    {
     "data": {
      "text/plain": "<IPython.core.display.Math object>",
      "text/latex": "$\\displaystyle y_{6} = {0.29031743499760726}$"
     },
     "metadata": {},
     "output_type": "display_data"
    },
    {
     "data": {
      "text/plain": "<IPython.core.display.Math object>",
      "text/latex": "$\\displaystyle x_{7} = {3.5749999999999997}$"
     },
     "metadata": {},
     "output_type": "display_data"
    },
    {
     "data": {
      "text/plain": "<IPython.core.display.Math object>",
      "text/latex": "$\\displaystyle y_{7} = {0.26245507599986806}$"
     },
     "metadata": {},
     "output_type": "display_data"
    },
    {
     "data": {
      "text/plain": "<IPython.core.display.Math object>",
      "text/latex": "$\\displaystyle x_{8} = {3.9999999999999996}$"
     },
     "metadata": {},
     "output_type": "display_data"
    },
    {
     "data": {
      "text/plain": "<IPython.core.display.Math object>",
      "text/latex": "$\\displaystyle y_{8} = {0.23893805309734514}$"
     },
     "metadata": {},
     "output_type": "display_data"
    },
    {
     "data": {
      "text/plain": "<IPython.core.display.Math object>",
      "text/latex": "$\\displaystyle I_{par} = 1.2880206072522136$"
     },
     "metadata": {},
     "output_type": "display_data"
    },
    {
     "data": {
      "text/plain": "<IPython.core.display.Markdown object>",
      "text/markdown": "---"
     },
     "metadata": {},
     "output_type": "display_data"
    }
   ],
   "source": [
    "for n in [4, 6, 8]:\n",
    "  h = (b - a) / n\n",
    "  display(Markdown('### n = ' + str(n)))\n",
    "  display(Math('h = ' + str(h)))\n",
    "  x = np.empty((n + 1))\n",
    "  y = np.empty((n + 1))\n",
    "  x[0] = a\n",
    "  y[0] = f(x[0])\n",
    "  display(Math(r'x_{0} = {' + str(x[0]) + r'}'))\n",
    "  display(Math(r'y_{0} = {' + str(y[0]) + r'}'))\n",
    "  for i in range(1, n + 1):\n",
    "    x[i] = x[i - 1] + h\n",
    "    y[i] = f(x[i])\n",
    "    display(Math(r'x_{' + str(i) +  r'} = {' + str(x[i]) + r'}'))\n",
    "    display(Math(r'y_{' + str(i) +  r'} = {' + str(y[i]) + r'}'))\n",
    "  summ_0 = 0\n",
    "  for i in range(1, n, 2):\n",
    "    summ_0 += y[i]\n",
    "  summ_1 = 0\n",
    "  for i in range(2, n, 2):\n",
    "    summ_1 += y[i]\n",
    "  I[1][int(0.5 * n - 2)] = (h/3)*(f(x[0]) + 4 * summ_0 + 2 * summ_1 + f(x[n]))\n",
    "  display(Math(r'I_{par} = ' + str( (h/3)*(f(x[0]) + 4 * summ_0 + 2 * summ_1 + f(x[n])))))\n",
    "  display(Markdown(\"---\"))"
   ]
  },
  {
   "cell_type": "markdown",
   "metadata": {},
   "source": [
    "## Метод Гаусса (n = 4, 6, 8)\n",
    "\n",
    "Формул на отрезке $ [-1, 1] $ имеет вид:\n",
    "\n",
    "$ \\int_{-1}^{1}f(t)dt = \\sum_{i = 1}^{n}A_{i} * f(t_{i}) $\n",
    "\n",
    "Для перехода от интервала $ [a, b] $ к интервалу $ [-1, 1] $ необходимо осуществить замену переменной:\n",
    "\n",
    "$ x = \\frac{a + b}{2} + \\frac{b - a}{2} * t $\n",
    "\n",
    "Тогда формула примет следующий вид:\n",
    "\n",
    "$ I_{g} = | \\frac{b - a}{2}\\sum_{i = 1}^{n}A_{i}f(\\frac{a + b}{2} + \\frac{b - a}{2} * t_{i}) | $"
   ]
  },
  {
   "cell_type": "code",
   "execution_count": 4,
   "metadata": {
    "ExecuteTime": {
     "end_time": "2023-10-29T19:13:20.413572700Z",
     "start_time": "2023-10-29T19:13:20.059882700Z"
    }
   },
   "outputs": [
    {
     "data": {
      "text/plain": "<IPython.core.display.Markdown object>",
      "text/markdown": "### n = 4"
     },
     "metadata": {},
     "output_type": "display_data"
    },
    {
     "data": {
      "text/plain": "<IPython.core.display.Math object>",
      "text/latex": "$\\displaystyle x_{0} = {0.8360687999999998}$"
     },
     "metadata": {},
     "output_type": "display_data"
    },
    {
     "data": {
      "text/plain": "<IPython.core.display.Math object>",
      "text/latex": "$\\displaystyle y_{0} = {0.5407558952721945}$"
     },
     "metadata": {},
     "output_type": "display_data"
    },
    {
     "data": {
      "text/plain": "<IPython.core.display.Math object>",
      "text/latex": "$\\displaystyle x_{1} = {1.7220323}$"
     },
     "metadata": {},
     "output_type": "display_data"
    },
    {
     "data": {
      "text/plain": "<IPython.core.display.Math object>",
      "text/latex": "$\\displaystyle y_{1} = {0.42841349459770334}$"
     },
     "metadata": {},
     "output_type": "display_data"
    },
    {
     "data": {
      "text/plain": "<IPython.core.display.Math object>",
      "text/latex": "$\\displaystyle x_{2} = {2.8779676999999997}$"
     },
     "metadata": {},
     "output_type": "display_data"
    },
    {
     "data": {
      "text/plain": "<IPython.core.display.Math object>",
      "text/latex": "$\\displaystyle y_{2} = {0.3108837731907037}$"
     },
     "metadata": {},
     "output_type": "display_data"
    },
    {
     "data": {
      "text/plain": "<IPython.core.display.Math object>",
      "text/latex": "$\\displaystyle x_{3} = {3.7639312}$"
     },
     "metadata": {},
     "output_type": "display_data"
    },
    {
     "data": {
      "text/plain": "<IPython.core.display.Math object>",
      "text/latex": "$\\displaystyle y_{3} = {0.2515173987919648}$"
     },
     "metadata": {},
     "output_type": "display_data"
    },
    {
     "data": {
      "text/plain": "<IPython.core.display.Math object>",
      "text/latex": "$\\displaystyle I_{g} = 1.28813156692995$"
     },
     "metadata": {},
     "output_type": "display_data"
    },
    {
     "data": {
      "text/plain": "<IPython.core.display.Markdown object>",
      "text/markdown": "---"
     },
     "metadata": {},
     "output_type": "display_data"
    },
    {
     "data": {
      "text/plain": "<IPython.core.display.Markdown object>",
      "text/markdown": "### n = 6"
     },
     "metadata": {},
     "output_type": "display_data"
    },
    {
     "data": {
      "text/plain": "<IPython.core.display.Math object>",
      "text/latex": "$\\displaystyle x_{0} = {0.7148112}$"
     },
     "metadata": {},
     "output_type": "display_data"
    },
    {
     "data": {
      "text/plain": "<IPython.core.display.Math object>",
      "text/latex": "$\\displaystyle y_{0} = {0.5527810798922783}$"
     },
     "metadata": {},
     "output_type": "display_data"
    },
    {
     "data": {
      "text/plain": "<IPython.core.display.Math object>",
      "text/latex": "$\\displaystyle x_{1} = {1.1759446999999998}$"
     },
     "metadata": {},
     "output_type": "display_data"
    },
    {
     "data": {
      "text/plain": "<IPython.core.display.Math object>",
      "text/latex": "$\\displaystyle y_{1} = {0.4993311186726614}$"
     },
     "metadata": {},
     "output_type": "display_data"
    },
    {
     "data": {
      "text/plain": "<IPython.core.display.Math object>",
      "text/latex": "$\\displaystyle x_{2} = {1.8943477}$"
     },
     "metadata": {},
     "output_type": "display_data"
    },
    {
     "data": {
      "text/plain": "<IPython.core.display.Math object>",
      "text/latex": "$\\displaystyle y_{2} = {0.40756997237682013}$"
     },
     "metadata": {},
     "output_type": "display_data"
    },
    {
     "data": {
      "text/plain": "<IPython.core.display.Math object>",
      "text/latex": "$\\displaystyle x_{3} = {2.7056522999999997}$"
     },
     "metadata": {},
     "output_type": "display_data"
    },
    {
     "data": {
      "text/plain": "<IPython.core.display.Math object>",
      "text/latex": "$\\displaystyle y_{3} = {0.3251691032623724}$"
     },
     "metadata": {},
     "output_type": "display_data"
    },
    {
     "data": {
      "text/plain": "<IPython.core.display.Math object>",
      "text/latex": "$\\displaystyle x_{4} = {3.4240553}$"
     },
     "metadata": {},
     "output_type": "display_data"
    },
    {
     "data": {
      "text/plain": "<IPython.core.display.Math object>",
      "text/latex": "$\\displaystyle y_{4} = {0.27180517363108186}$"
     },
     "metadata": {},
     "output_type": "display_data"
    },
    {
     "data": {
      "text/plain": "<IPython.core.display.Math object>",
      "text/latex": "$\\displaystyle x_{5} = {3.8851888}$"
     },
     "metadata": {},
     "output_type": "display_data"
    },
    {
     "data": {
      "text/plain": "<IPython.core.display.Math object>",
      "text/latex": "$\\displaystyle y_{5} = {0.24491278919149004}$"
     },
     "metadata": {},
     "output_type": "display_data"
    },
    {
     "data": {
      "text/plain": "<IPython.core.display.Math object>",
      "text/latex": "$\\displaystyle I_{g} = 1.2881208439062415$"
     },
     "metadata": {},
     "output_type": "display_data"
    },
    {
     "data": {
      "text/plain": "<IPython.core.display.Markdown object>",
      "text/markdown": "---"
     },
     "metadata": {},
     "output_type": "display_data"
    },
    {
     "data": {
      "text/plain": "<IPython.core.display.Markdown object>",
      "text/markdown": "### n = 8"
     },
     "metadata": {},
     "output_type": "display_data"
    },
    {
     "data": {
      "text/plain": "<IPython.core.display.Math object>",
      "text/latex": "$\\displaystyle x_{0} = {0.6675087}$"
     },
     "metadata": {},
     "output_type": "display_data"
    },
    {
     "data": {
      "text/plain": "<IPython.core.display.Math object>",
      "text/latex": "$\\displaystyle y_{0} = {0.5568182244677907}$"
     },
     "metadata": {},
     "output_type": "display_data"
    },
    {
     "data": {
      "text/plain": "<IPython.core.display.Math object>",
      "text/latex": "$\\displaystyle x_{1} = {0.9456677999999998}$"
     },
     "metadata": {},
     "output_type": "display_data"
    },
    {
     "data": {
      "text/plain": "<IPython.core.display.Math object>",
      "text/latex": "$\\displaystyle y_{1} = {0.5283088668779214}$"
     },
     "metadata": {},
     "output_type": "display_data"
    },
    {
     "data": {
      "text/plain": "<IPython.core.display.Math object>",
      "text/latex": "$\\displaystyle x_{2} = {1.4065955999999997}$"
     },
     "metadata": {},
     "output_type": "display_data"
    },
    {
     "data": {
      "text/plain": "<IPython.core.display.Math object>",
      "text/latex": "$\\displaystyle y_{2} = {0.4689299125738532}$"
     },
     "metadata": {},
     "output_type": "display_data"
    },
    {
     "data": {
      "text/plain": "<IPython.core.display.Math object>",
      "text/latex": "$\\displaystyle x_{3} = {1.9881621999999999}$"
     },
     "metadata": {},
     "output_type": "display_data"
    },
    {
     "data": {
      "text/plain": "<IPython.core.display.Math object>",
      "text/latex": "$\\displaystyle y_{3} = {0.39669612283662103}$"
     },
     "metadata": {},
     "output_type": "display_data"
    },
    {
     "data": {
      "text/plain": "<IPython.core.display.Math object>",
      "text/latex": "$\\displaystyle x_{4} = {2.6118378}$"
     },
     "metadata": {},
     "output_type": "display_data"
    },
    {
     "data": {
      "text/plain": "<IPython.core.display.Math object>",
      "text/latex": "$\\displaystyle y_{4} = {0.33338814977129755}$"
     },
     "metadata": {},
     "output_type": "display_data"
    },
    {
     "data": {
      "text/plain": "<IPython.core.display.Math object>",
      "text/latex": "$\\displaystyle x_{5} = {3.1934044}$"
     },
     "metadata": {},
     "output_type": "display_data"
    },
    {
     "data": {
      "text/plain": "<IPython.core.display.Math object>",
      "text/latex": "$\\displaystyle y_{5} = {0.28724511239833006}$"
     },
     "metadata": {},
     "output_type": "display_data"
    },
    {
     "data": {
      "text/plain": "<IPython.core.display.Math object>",
      "text/latex": "$\\displaystyle x_{6} = {3.6543322}$"
     },
     "metadata": {},
     "output_type": "display_data"
    },
    {
     "data": {
      "text/plain": "<IPython.core.display.Math object>",
      "text/latex": "$\\displaystyle y_{6} = {0.25776262228608543}$"
     },
     "metadata": {},
     "output_type": "display_data"
    },
    {
     "data": {
      "text/plain": "<IPython.core.display.Math object>",
      "text/latex": "$\\displaystyle x_{7} = {3.9324912999999997}$"
     },
     "metadata": {},
     "output_type": "display_data"
    },
    {
     "data": {
      "text/plain": "<IPython.core.display.Math object>",
      "text/latex": "$\\displaystyle y_{7} = {0.2424192553804981}$"
     },
     "metadata": {},
     "output_type": "display_data"
    },
    {
     "data": {
      "text/plain": "<IPython.core.display.Math object>",
      "text/latex": "$\\displaystyle I_{g} = 1.2881212325156766$"
     },
     "metadata": {},
     "output_type": "display_data"
    },
    {
     "data": {
      "text/plain": "<IPython.core.display.Markdown object>",
      "text/markdown": "---"
     },
     "metadata": {},
     "output_type": "display_data"
    }
   ],
   "source": [
    "t = np.array([\n",
    "    [-0.861136,  -0.339981, 0.339981, 0.861136],\n",
    "    [-0.932464, -0.661209, -0.238619, 0.238619, 0.661209, 0.932464],\n",
    "    [-0.960289, -0.796666, -0.525532, -0.183434, 0.183434, 0.525532, 0.796666, 0.960289]\n",
    "], dtype=object)\n",
    "\n",
    "A = np.array([\n",
    "  [0.347854, 0.652145, 0.652145, 0.347854],\n",
    "  [0.171324, 0.360761, 0.467913, 0.467913, 0.360761, 0.171324],\n",
    "  [0.101228, 0.222381, 0.313706, 0.362683, 0.362683, 0.313706, 0.222381, 0.101228],\n",
    "], dtype=object)\n",
    "\n",
    "for n in [4, 6, 8]:\n",
    "  h = (b - a) / n\n",
    "  display(Markdown('### n = ' + str(n)))\n",
    "  x = np.empty(n)\n",
    "  y = np.empty(n)\n",
    "  x[0] = ((a + b) / 2) + (( (b - a) / 2 ) * t[int(0.5 * n - 2)][0])\n",
    "  y[0] = f(x[0])\n",
    "  display(Math(r'x_{0} = {' + str(x[0]) + r'}'))\n",
    "  display(Math(r'y_{0} = {' + str(y[0]) + r'}'))\n",
    "  for i in range(1, n):\n",
    "    x[i] = ((a + b) / 2) + (( (b - a) / 2 ) * t[int(0.5 * n - 2)][i])\n",
    "    y[i] = f(x[i])\n",
    "    display(Math(r'x_{' + str(i) +  r'} = {' + str(x[i]) + r'}'))\n",
    "    display(Math(r'y_{' + str(i) +  r'} = {' + str(y[i]) + r'}'))\n",
    "  summ = 0\n",
    "  for i in range(0, n):\n",
    "    summ += A[int(0.5 * n - 2)][i]*y[i]\n",
    "  I[2][int(0.5 * n - 2)] = ((b - a) / 2) * summ\n",
    "  display(Math(r'I_{g} = ' + str( ((b - a) / 2) * summ )))\n",
    "  display(Markdown(\"---\"))"
   ]
  },
  {
   "cell_type": "markdown",
   "metadata": {},
   "source": [
    "## Таблица с результатами расчётов"
   ]
  },
  {
   "cell_type": "code",
   "execution_count": 5,
   "metadata": {
    "ExecuteTime": {
     "end_time": "2023-10-29T19:13:20.413572700Z",
     "start_time": "2023-10-29T19:13:20.151088700Z"
    }
   },
   "outputs": [
    {
     "data": {
      "text/plain": "<IPython.core.display.Markdown object>",
      "text/markdown": "| n | Трапеции   |  Параболы |  Гаусс    |\n|---|------------|-----------|-----------|\n| 4 | 1.289460835970275  | 1.2866486912427446 | 1.28813156692995 |\n| 6 | 1.2886159138936784  | 1.2878009209388008 | 1.2881208439062415 |\n| 8 | 1.288380664431729  | 1.2880206072522136 | 1.2881212325156766 |\n"
     },
     "metadata": {},
     "output_type": "display_data"
    }
   ],
   "source": [
    "I_4_trapezoidal = I[0][0]\n",
    "I_4_parabolic = I[1][0]\n",
    "I_4_gauss = I[2][0]\n",
    "\n",
    "I_6_trapezoidal = I[0][1]\n",
    "I_6_parabolic = I[1][1]\n",
    "I_6_gauss = I[2][1]\n",
    "\n",
    "I_8_trapezoidal = I[0][2]\n",
    "I_8_parabolic = I[1][2]\n",
    "I_8_gauss = I[2][2]\n",
    "\n",
    "markdown_str = f\"| n | Трапеции   |  Параболы |  Гаусс    |\\n\"\n",
    "markdown_str += \"|---|------------|-----------|-----------|\\n\"\n",
    "markdown_str += f\"| 4 | {I_4_trapezoidal}  | {I_4_parabolic} | {I_4_gauss} |\\n\"\n",
    "markdown_str += f\"| 6 | {I_6_trapezoidal}  | {I_6_parabolic} | {I_6_gauss} |\\n\"\n",
    "markdown_str += f\"| 8 | {I_8_trapezoidal}  | {I_8_parabolic} | {I_8_gauss} |\\n\"\n",
    "\n",
    "display(Markdown(markdown_str))"
   ]
  },
  {
   "cell_type": "markdown",
   "metadata": {},
   "source": [
    "## Графики\n",
    "\n",
    "1. График, на котором отражено точное значение интеграла, а также приближённые значения по методам трапеций, парабол и Гаусса для всех рассмотренных n;"
   ]
  },
  {
   "cell_type": "code",
   "execution_count": 6,
   "metadata": {
    "ExecuteTime": {
     "end_time": "2023-10-29T19:13:20.921024600Z",
     "start_time": "2023-10-29T19:13:20.169714400Z"
    }
   },
   "outputs": [
    {
     "data": {
      "text/plain": "<Figure size 640x480 with 1 Axes>",
      "image/png": "[encoded data removed]"
     },
     "metadata": {},
     "output_type": "display_data"
    }
   ],
   "source": [
    "import matplotlib.pyplot as plt\n",
    "\n",
    "x = [4, 6, 8]  \n",
    "trapezoidal = [I_4_trapezoidal, I_6_trapezoidal, I_8_trapezoidal]\n",
    "parabolic = [I_4_parabolic, I_6_parabolic, I_8_parabolic]\n",
    "gauss = [I_4_gauss, I_6_gauss, I_8_gauss]\n",
    "exact_value = [I_exact, I_exact, I_exact]\n",
    "\n",
    "plt.plot(x, exact_value, label='Точное значение', marker='o')\n",
    "plt.plot(x, trapezoidal, label='Метод трапеций', marker='o')\n",
    "plt.plot(x, parabolic, label='Метод парабол', marker='o')\n",
    "plt.plot(x, gauss, label='Метода Гаусса', marker='.')\n",
    "\n",
    "plt.xlabel('Значение n')\n",
    "plt.ylabel('Значение I')\n",
    "\n",
    "plt.title('Все методы')\n",
    "\n",
    "plt.xticks(x)\n",
    "plt.legend()\n",
    "\n",
    "plt.grid(True)\n",
    "plt.show()"
   ]
  },
  {
   "cell_type": "markdown",
   "metadata": {},
   "source": [
    "2. Графики, отражающие отклонения приближенных значений по методам трапеций, парабол и Гаусса от точного значения для всех рассмотренных n"
   ]
  },
  {
   "cell_type": "code",
   "execution_count": 7,
   "metadata": {
    "ExecuteTime": {
     "end_time": "2023-10-29T19:13:21.074116400Z",
     "start_time": "2023-10-29T19:13:20.903982900Z"
    }
   },
   "outputs": [
    {
     "data": {
      "text/plain": "<Figure size 640x480 with 1 Axes>",
      "image/png": "[encoded data removed]"
     },
     "metadata": {},
     "output_type": "display_data"
    }
   ],
   "source": [
    "trapezoidal_error = [abs(exact - trapez) for exact, trapez in zip(exact_value, trapezoidal)]\n",
    "\n",
    "plt.plot(x, trapezoidal_error, label='Отклонение от точного значения (Метод трапеций)', marker='o')\n",
    "\n",
    "plt.xlabel('Значение n')\n",
    "plt.ylabel('Отклонение от точного значения')\n",
    "\n",
    "plt.title('abs(I_tr - I)')\n",
    "\n",
    "plt.xticks(x)\n",
    "plt.legend()\n",
    "\n",
    "for i, value in enumerate(trapezoidal_error):\n",
    "    plt.annotate(f'{value:.10f}', (x[i], trapezoidal_error[i]), textcoords=\"offset points\", xytext=(0, 10), ha='center')\n",
    "\n",
    "\n",
    "plt.grid(True)\n",
    "plt.show()"
   ]
  },
  {
   "cell_type": "code",
   "execution_count": 8,
   "metadata": {
    "ExecuteTime": {
     "end_time": "2023-10-29T19:13:21.190460900Z",
     "start_time": "2023-10-29T19:13:21.077115Z"
    }
   },
   "outputs": [
    {
     "data": {
      "text/plain": "<Figure size 640x480 with 1 Axes>",
      "image/png": "[encoded data removed]"
     },
     "metadata": {},
     "output_type": "display_data"
    }
   ],
   "source": [
    "parabolic_error = [abs(exact - parabolic) for exact, parabolic in zip(exact_value, parabolic)]\n",
    "\n",
    "plt.plot(x, parabolic_error, label='Отклонение от точного значения (Метод парабол)', marker='o')\n",
    "\n",
    "plt.xlabel('Значение n')\n",
    "plt.ylabel('Отклонение от точного значения')\n",
    "\n",
    "plt.title('abs(I_par - I)')\n",
    "\n",
    "plt.xticks(x)\n",
    "plt.legend()\n",
    "\n",
    "for i, value in enumerate(parabolic_error):\n",
    "    plt.annotate(f'{value:.10f}', (x[i], parabolic_error[i]), textcoords=\"offset points\", xytext=(0, 10), ha='center')\n",
    "\n",
    "plt.grid(True)\n",
    "plt.show()"
   ]
  },
  {
   "cell_type": "code",
   "execution_count": 9,
   "metadata": {
    "ExecuteTime": {
     "end_time": "2023-10-29T19:13:21.291650200Z",
     "start_time": "2023-10-29T19:13:21.190460900Z"
    }
   },
   "outputs": [
    {
     "data": {
      "text/plain": "<Figure size 640x480 with 1 Axes>",
      "image/png": "[encoded data removed]"
     },
     "metadata": {},
     "output_type": "display_data"
    }
   ],
   "source": [
    "gauss_error = [abs(exact - gauss) for exact, gauss in zip(exact_value, gauss)]\n",
    "\n",
    "plt.plot(x, gauss_error, label='Отклонение от точного значения (Метод парабол)', marker='o')\n",
    "\n",
    "plt.xlabel('Значение n')\n",
    "plt.ylabel('Отклонение от точного значения')\n",
    "\n",
    "plt.title('abs(I_Gauss - I)')\n",
    "\n",
    "plt.xticks(x)\n",
    "plt.legend()\n",
    "\n",
    "for i, value in enumerate(gauss_error):\n",
    "    plt.annotate(f'{value:.10f}', (x[i], gauss_error[i]), textcoords=\"offset points\", xytext=(10, -10), ha='center')\n",
    "\n",
    "plt.grid(True)\n",
    "plt.show()"
   ]
  }
 ],
 "metadata": {
  "kernelspec": {
   "display_name": "base",
   "language": "python",
   "name": "python3"
  },
  "language_info": {
   "codemirror_mode": {
    "name": "ipython",
    "version": 3
   },
   "file_extension": ".py",
   "mimetype": "text/x-python",
   "name": "python",
   "nbconvert_exporter": "python",
   "pygments_lexer": "ipython3",
   "version": "3.9.13"
  }
 },
 "nbformat": 4,
 "nbformat_minor": 2
}
